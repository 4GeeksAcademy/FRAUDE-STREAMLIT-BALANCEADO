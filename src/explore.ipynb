{
    "cells": [
        {
            "cell_type": "markdown",
            "metadata": {},
            "source": [
                "# Explore here"
            ]
        },
        {
            "cell_type": "code",
            "execution_count": 1,
            "metadata": {},
            "outputs": [
                {
                    "ename": "FileNotFoundError",
                    "evalue": "[Errno 2] No such file or directory: '/workspaces/fraud/models/modelo_Arbol_optimizado.pkl'",
                    "output_type": "error",
                    "traceback": [
                        "\u001b[0;31m---------------------------------------------------------------------------\u001b[0m",
                        "\u001b[0;31mFileNotFoundError\u001b[0m                         Traceback (most recent call last)",
                        "Cell \u001b[0;32mIn[1], line 9\u001b[0m\n\u001b[1;32m      6\u001b[0m \u001b[38;5;28;01mfrom\u001b[39;00m\u001b[38;5;250m \u001b[39m\u001b[38;5;21;01msklearn\u001b[39;00m\u001b[38;5;21;01m.\u001b[39;00m\u001b[38;5;21;01mtree\u001b[39;00m\u001b[38;5;250m \u001b[39m\u001b[38;5;28;01mimport\u001b[39;00m DecisionTreeClassifier\n\u001b[1;32m      8\u001b[0m \u001b[38;5;66;03m# Ruta al archivo del modelo\u001b[39;00m\n\u001b[0;32m----> 9\u001b[0m model \u001b[38;5;241m=\u001b[39m load(\u001b[38;5;28;43mopen\u001b[39;49m\u001b[43m(\u001b[49m\u001b[38;5;124;43m\"\u001b[39;49m\u001b[38;5;124;43m/workspaces/fraud/models/modelo_Arbol_optimizado.pkl\u001b[39;49m\u001b[38;5;124;43m\"\u001b[39;49m\u001b[43m,\u001b[49m\u001b[43m \u001b[49m\u001b[38;5;124;43m\"\u001b[39;49m\u001b[38;5;124;43mrb\u001b[39;49m\u001b[38;5;124;43m\"\u001b[39;49m\u001b[43m)\u001b[49m)\n\u001b[1;32m     11\u001b[0m \u001b[38;5;66;03m# Diccionario de clases\u001b[39;00m\n\u001b[1;32m     12\u001b[0m class_dict \u001b[38;5;241m=\u001b[39m {\n\u001b[1;32m     13\u001b[0m     \u001b[38;5;124m\"\u001b[39m\u001b[38;5;124m0\u001b[39m\u001b[38;5;124m\"\u001b[39m: \u001b[38;5;124m\"\u001b[39m\u001b[38;5;124mNo Fraude\u001b[39m\u001b[38;5;124m\"\u001b[39m,\n\u001b[1;32m     14\u001b[0m     \u001b[38;5;124m\"\u001b[39m\u001b[38;5;124m1\u001b[39m\u001b[38;5;124m\"\u001b[39m: \u001b[38;5;124m\"\u001b[39m\u001b[38;5;124mFraude\u001b[39m\u001b[38;5;124m\"\u001b[39m,\n\u001b[1;32m     15\u001b[0m }\n",
                        "File \u001b[0;32m~/.local/lib/python3.10/site-packages/IPython/core/interactiveshell.py:324\u001b[0m, in \u001b[0;36m_modified_open\u001b[0;34m(file, *args, **kwargs)\u001b[0m\n\u001b[1;32m    317\u001b[0m \u001b[38;5;28;01mif\u001b[39;00m file \u001b[38;5;129;01min\u001b[39;00m {\u001b[38;5;241m0\u001b[39m, \u001b[38;5;241m1\u001b[39m, \u001b[38;5;241m2\u001b[39m}:\n\u001b[1;32m    318\u001b[0m     \u001b[38;5;28;01mraise\u001b[39;00m \u001b[38;5;167;01mValueError\u001b[39;00m(\n\u001b[1;32m    319\u001b[0m         \u001b[38;5;124mf\u001b[39m\u001b[38;5;124m\"\u001b[39m\u001b[38;5;124mIPython won\u001b[39m\u001b[38;5;124m'\u001b[39m\u001b[38;5;124mt let you open fd=\u001b[39m\u001b[38;5;132;01m{\u001b[39;00mfile\u001b[38;5;132;01m}\u001b[39;00m\u001b[38;5;124m by default \u001b[39m\u001b[38;5;124m\"\u001b[39m\n\u001b[1;32m    320\u001b[0m         \u001b[38;5;124m\"\u001b[39m\u001b[38;5;124mas it is likely to crash IPython. If you know what you are doing, \u001b[39m\u001b[38;5;124m\"\u001b[39m\n\u001b[1;32m    321\u001b[0m         \u001b[38;5;124m\"\u001b[39m\u001b[38;5;124myou can use builtins\u001b[39m\u001b[38;5;124m'\u001b[39m\u001b[38;5;124m open.\u001b[39m\u001b[38;5;124m\"\u001b[39m\n\u001b[1;32m    322\u001b[0m     )\n\u001b[0;32m--> 324\u001b[0m \u001b[38;5;28;01mreturn\u001b[39;00m \u001b[43mio_open\u001b[49m\u001b[43m(\u001b[49m\u001b[43mfile\u001b[49m\u001b[43m,\u001b[49m\u001b[43m \u001b[49m\u001b[38;5;241;43m*\u001b[39;49m\u001b[43margs\u001b[49m\u001b[43m,\u001b[49m\u001b[43m \u001b[49m\u001b[38;5;241;43m*\u001b[39;49m\u001b[38;5;241;43m*\u001b[39;49m\u001b[43mkwargs\u001b[49m\u001b[43m)\u001b[49m\n",
                        "\u001b[0;31mFileNotFoundError\u001b[0m: [Errno 2] No such file or directory: '/workspaces/fraud/models/modelo_Arbol_optimizado.pkl'"
                    ]
                }
            ],
            "source": [
                "# Your code here\n",
                "import joblib\n",
                "import streamlit as st\n",
                "import os\n",
                "from pickle import load\n",
                "from sklearn.tree import DecisionTreeClassifier\n",
                "\n",
                "# Ruta al archivo del modelo\n",
                "model = load(open(\"/workspaces/fraud_para_Render/models/modelo_Arbol_optimizado.pkl\", \"rb\"))\n",
                "\n",
                "# Diccionario de clases\n",
                "class_dict = {\n",
                "    \"0\": \"No Fraude\",\n",
                "    \"1\": \"Fraude\",\n",
                "}\n",
                "\n",
                "# Título de la aplicación\n",
                "st.title(\"MODELO MACHINE LEARNING PARA LA PREDICCION DE FRAUDE FINANCIERO\")\n",
                "\n",
                "# Menú de navegación\n",
                "menu = st.sidebar.selectbox(\"Selecciona una opción\", [\"Predicción de Fraude\", \"Reseña sobre Fraudes Financieros\"])\n",
                "\n",
                "if menu == \"Predicción de Fraude\":\n",
                "    st.header(\"Predicción de Fraude en Transacciones Bancarias\")\n",
                "\n",
                "    # Formularios para ingresar los valores de manera estructurada\n",
                "    with st.form(\"Formulario de Datos\"):\n",
                "        st.subheader(\"Por favor, complete la siguiente información\")\n",
                "        income = st.number_input(\"Ingresos\", min_value=0.0, max_value=1000000.0, step=1000.0)\n",
                "        name_email_similarity = st.slider(\"Similitud entre Nombre y Email\", min_value=0.0, max_value=1.0, step=0.01)\n",
                "        prev_address_months_count = st.number_input(\"Meses en la Dirección Anterior\", min_value=0, max_value=240, step=1)\n",
                "        current_address_months_count = st.number_input(\"Meses en la Dirección Actual\", min_value=0, max_value=240, step=1)\n",
                "        customer_age = st.number_input(\"Edad del Cliente\", min_value=18, max_value=100, step=1)\n",
                "        days_since_request = st.number_input(\"Días desde la Solicitud\", min_value=0.0, max_value=365.0, step=1.0)\n",
                "        intended_balcon_amount = st.number_input(\"Monto del Saldo Intencionado\", min_value=0.0, max_value=1000000.0, step=1000.0)\n",
                "        zip_count_4w = st.number_input(\"Conteo de Códigos Postales en 4 Semanas\", min_value=0, max_value=50, step=1)\n",
                "        velocity_6h = st.number_input(\"Velocidad de Transacción en 6 Horas\", min_value=0.0, max_value=1000.0, step=1.0)\n",
                "        velocity_24h = st.number_input(\"Velocidad de Transacción en 24 Horas\", min_value=0.0, max_value=1000.0, step=1.0)\n",
                "        velocity_4w = st.number_input(\"Velocidad de Transacción en 4 Semanas\", min_value=0.0, max_value=1000.0, step=1.0)\n",
                "        bank_branch_count_8w = st.number_input(\"Número de Sucursales Bancarias en 8 Semanas\", min_value=0, max_value=20, step=1)\n",
                "        date_of_birth_distinct_emails_4w = st.number_input(\"Correos Electrónicos Distintos en 4 Semanas\", min_value=0, max_value=10, step=1)\n",
                "        credit_risk_score = st.number_input(\"Puntuación de Riesgo Crediticio\", min_value=0, max_value=1000, step=1)\n",
                "        email_is_free = st.selectbox(\"Email es Gratuito\", [0, 1])\n",
                "        phone_home_valid = st.selectbox(\"Teléfono de Casa Válido\", [0, 1])\n",
                "        phone_mobile_valid = st.selectbox(\"Teléfono Móvil Válido\", [0, 1])\n",
                "        bank_months_count = st.number_input(\"Meses con el Banco\", min_value=0, max_value=240, step=1)\n",
                "        has_other_cards = st.selectbox(\"Tiene Otras Tarjetas\", [0, 1])\n",
                "        proposed_credit_limit = st.number_input(\"Límite de Crédito Propuesto\", min_value=0.0, max_value=1000000.0, step=1000.0)\n",
                "        foreign_request = st.selectbox(\"Solicitud Extranjera\", [0, 1])\n",
                "        session_length_in_minutes = st.number_input(\"Duración de la Sesión en Minutos\", min_value=0.0, max_value=1440.0, step=1.0)\n",
                "        device_distinct_emails_8w = st.number_input(\"Emails Distintos en 8 Semanas\", min_value=0, max_value=10, step=1)\n",
                "        device_fraud_count = st.number_input(\"Conteo de Fraudes en el Dispositivo\", min_value=0, max_value=10, step=1)\n",
                "        month = st.slider(\"Mes\", min_value=1, max_value=12, step=1)\n",
                "\n",
                "        # Botón de predicción\n",
                "        submit_button = st.form_submit_button(label=\"Predecir\")\n",
                "\n",
                "    if submit_button:\n",
                "        data = [[\n",
                "            income, name_email_similarity, prev_address_months_count, current_address_months_count, customer_age,\n",
                "            days_since_request, intended_balcon_amount, zip_count_4w, velocity_6h, velocity_24h, velocity_4w,\n",
                "            bank_branch_count_8w, date_of_birth_distinct_emails_4w, credit_risk_score, email_is_free, phone_home_valid,\n",
                "            phone_mobile_valid, bank_months_count, has_other_cards, proposed_credit_limit, foreign_request,\n",
                "            session_length_in_minutes, device_distinct_emails_8w, device_fraud_count, month\n",
                "        ]]\n",
                "        \n",
                "        prediction = str(model.predict(data)[0])\n",
                "        pred_class = class_dict[prediction]\n",
                "        st.write(\"Predicción:\", pred_class)\n",
                "\n",
                "elif menu == \"Reseña sobre Fraudes Financieros\":\n",
                "    st.header(\"Reseña sobre Fraudes Financieros\")\n",
                "\n",
                "    st.write(\"\"\"\n",
                "    Los fraudes financieros son actividades ilícitas que buscan obtener ganancias económicas mediante engaños y estafas. \n",
                "    Existen diferentes tipos de fraudes financieros, entre ellos:\n",
                "\n",
                "    1. **Fraude con Tarjetas de Crédito**: Clonación o robo de datos de tarjetas para realizar compras no autorizadas.\n",
                "    2. **Phishing**: Intento de obtener información confidencial como contraseñas o detalles bancarios mediante correos electrónicos falsos o sitios web fraudulentos.\n",
                "    3. **Fraude en Transferencias Bancarias**: Manipulación o redirección de transferencias electrónicas hacia cuentas no autorizadas.\n",
                "    4. **Fraude en Préstamos**: Obtención de préstamos con identidades falsas o documentos falsificados.\n",
                "    5. **Fraude en Inversiones**: Promesas de altos rendimientos con esquemas Ponzi o inversiones inexistentes.\n",
                "\n",
                "    Las medidas de prevención y detección incluyen el monitoreo continuo de transacciones, implementación de tecnologías avanzadas de seguridad y educación a los usuarios sobre prácticas seguras.\n",
                "    \"\"\")\n"
            ]
        }
    ],
    "metadata": {
        "kernelspec": {
            "display_name": "Python 3",
            "language": "python",
            "name": "python3"
        },
        "language_info": {
            "codemirror_mode": {
                "name": "ipython",
                "version": 3
            },
            "file_extension": ".py",
            "mimetype": "text/x-python",
            "name": "python",
            "nbconvert_exporter": "python",
            "pygments_lexer": "ipython3",
            "version": "3.10.12"
        },
        "orig_nbformat": 4
    },
    "nbformat": 4,
    "nbformat_minor": 2
}
